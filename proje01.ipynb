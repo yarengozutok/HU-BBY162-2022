{
  "nbformat": 4,
  "nbformat_minor": 0,
  "metadata": {
    "colab": {
      "name": "proje01.ipynb",
      "provenance": [],
      "authorship_tag": "ABX9TyOzi3m+MLKvBOjd9epKlYQt",
      "include_colab_link": true
    },
    "kernelspec": {
      "name": "python3",
      "display_name": "Python 3"
    },
    "language_info": {
      "name": "python"
    }
  },
  "cells": [
    {
      "cell_type": "markdown",
      "metadata": {
        "id": "view-in-github",
        "colab_type": "text"
      },
      "source": [
        "<a href=\"https://colab.research.google.com/github/yarengozutok/HU-BBY162-2022/blob/main/proje01.ipynb\" target=\"_parent\"><img src=\"https://colab.research.google.com/assets/colab-badge.svg\" alt=\"Open In Colab\"/></a>"
      ]
    },
    {
      "cell_type": "code",
      "source": [
        "liste = [\"tavşan\", \"marul\", \"leopar\", \"salam\", \"demir\", \"tahta\"]\n",
        "while True:\n",
        "  try:\n",
        "    secim = int(input(\"İndeks numarasını giriniz: \"))     \n",
        "  except ValueError:\n",
        "     print(\"Lütfen bir sayı giriniz!\")\n",
        "     continue\n",
        "  else:\n",
        "     print(\"Sayı girdiniz!\")\n",
        "     break   \n",
        "listeToplam = len(liste)\n",
        "if secim < listeToplam:\n",
        " print(liste[secim])\n",
        "else:\n",
        "  print(\"İndeks dışı giriş\")"
      ],
      "metadata": {
        "id": "Xv4cQa0Zqj2K"
      },
      "execution_count": null,
      "outputs": []
    }
  ]
}