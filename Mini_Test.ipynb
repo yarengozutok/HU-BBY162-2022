{
  "nbformat": 4,
  "nbformat_minor": 0,
  "metadata": {
    "colab": {
      "name": "Mini Test.ipynb",
      "provenance": [],
      "authorship_tag": "ABX9TyOk5jsl226TZa+4NVxYZwZ4",
      "include_colab_link": true
    },
    "kernelspec": {
      "name": "python3",
      "display_name": "Python 3"
    },
    "language_info": {
      "name": "python"
    }
  },
  "cells": [
    {
      "cell_type": "markdown",
      "metadata": {
        "id": "view-in-github",
        "colab_type": "text"
      },
      "source": [
        "<a href=\"https://colab.research.google.com/github/yarengozutok/HU-BBY162-2022/blob/main/Mini_Test.ipynb\" target=\"_parent\"><img src=\"https://colab.research.google.com/assets/colab-badge.svg\" alt=\"Open In Colab\"/></a>"
      ]
    },
    {
      "cell_type": "code",
      "execution_count": 11,
      "metadata": {
        "colab": {
          "base_uri": "https://localhost:8080/"
        },
        "id": "5i7EuRQCavrr",
        "outputId": "39e17aa8-e169-45ce-b235-2cc6abf84fd5"
      },
      "outputs": [
        {
          "output_type": "stream",
          "name": "stdout",
          "text": [
            "Mini teste hoş geldiniz!\n",
            "Cevaplarınızı d veya y olarak giriniz.\n",
            "BAŞARILAR!\n",
            "1.SORU Cumhuriyet 1923 yılında ilan edilmiştir.\n",
            "Cevabınız: d\n",
            "Doğru bildiniz!\n",
            "2.SORU Kadınlara seçme ve seçilme hakkı 1932 yılında verilmiştir.\n",
            "Cevabınız: y\n",
            "Doğru bildiniz!,kadınlara seçme ve seçilme hakkı 1934 yılında verilmiştir.\n",
            "3.SORU Atatürk 1881 yılında doğmuştur.\n",
            "Cevabınız: d\n",
            "Doğru bildiniz!\n",
            "4.SORU Atatürk 1939 yılında vefat etmiştir.\n",
            "Cevabınız: y\n",
            "Doğru bildiniz!, Atatürk 1938 yılında vefat etmiştir.\n",
            "5.SORU Anıtkabir Ankara'da bulunur.\n",
            "Cevabınız: d\n",
            "Doğru bildiniz!\n",
            "TEBRİKLER!\n",
            "5\n"
          ]
        }
      ],
      "source": [
        "#Mini Test\n",
        "\n",
        "print(\"Mini teste hoş geldiniz!\")\n",
        "print(\"Cevaplarınızı d veya y olarak giriniz.\")\n",
        "print(\"BAŞARILAR!\")\n",
        "\n",
        "puan = 0\n",
        "\n",
        "sorular = [\"Cumhuriyet 1923 yılında ilan edilmiştir.\", \"Kadınlara seçme ve seçilme hakkı 1932 yılında verilmiştir.\",\"Atatürk 1881 yılında doğmuştur.\", \"Atatürk 1939 yılında vefat etmiştir.\", \"Anıtkabir Ankara'da bulunur.\"]\n",
        "cevaplar = [\"d\", \"y\", \"d\", \"y\", \"d\"]\n",
        "\n",
        "print(\"1.SORU \" + sorular[0])\n",
        "cevap = input(\"Cevabınız: \")\n",
        "if cevap == cevaplar[0]:\n",
        "  print(\"Doğru bildiniz!\")\n",
        "  puan += 1\n",
        "else :\n",
        "  print(\"Yanlış cevap!\")\n",
        "\n",
        "print(\"2.SORU \" + sorular[1])\n",
        "cevap = input(\"Cevabınız: \")\n",
        "if cevap == cevaplar[1]:\n",
        "  print(\"Doğru bildiniz!,kadınlara seçme ve seçilme hakkı 1934 yılında verilmiştir.\")\n",
        "  puan += 1\n",
        "else:\n",
        "  print(\"Yanlış cevap!,kadınlara seçme ve seçilme hakkı 1932 yılında değil 1934 yılında verilmiştir.\")\n",
        "\n",
        "print(\"3.SORU \" + sorular[2])\n",
        "cevap = input(\"Cevabınız: \")\n",
        "if cevap == cevaplar[2]:\n",
        "  print(\"Doğru bildiniz!\")\n",
        "  puan += 1\n",
        "else:\n",
        "  print(\"Yanlış cevap!\")\n",
        "\n",
        "print(\"4.SORU \" + sorular[3])\n",
        "cevap = input(\"Cevabınız: \")\n",
        "if cevap == cevaplar[3]:\n",
        "  print(\"Doğru bildiniz!, Atatürk 1938 yılında vefat etmiştir.\")\n",
        "  puan += 1\n",
        "else:\n",
        "  print(\"Yanlış cevap!, Atatürk 1939 yılında değil 1938 yılında vefat etmiştir.\")\n",
        "\n",
        "print(\"5.SORU \" + sorular[4])\n",
        "cevap = input(\"Cevabınız: \")\n",
        "if cevap == cevaplar[4]:\n",
        "  print(\"Doğru bildiniz!\")\n",
        "  puan += 1\n",
        "else:\n",
        "  print(\"Yanlış cevap!\")\n",
        "\n",
        "\n",
        "if puan >= 4:\n",
        "  print(\"TEBRİKLER!\")\n",
        "else:\n",
        "  print(\"Daha çok çalışmalısın!\")\n",
        "\n",
        "print(puan)"
      ]
    }
  ]
}