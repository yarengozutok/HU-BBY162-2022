{
  "nbformat": 4,
  "nbformat_minor": 0,
  "metadata": {
    "colab": {
      "name": "proje03.ipynb",
      "provenance": [],
      "authorship_tag": "ABX9TyN9Gv5KEdCwwWgU3BgQC4od",
      "include_colab_link": true
    },
    "kernelspec": {
      "name": "python3",
      "display_name": "Python 3"
    },
    "language_info": {
      "name": "python"
    }
  },
  "cells": [
    {
      "cell_type": "markdown",
      "metadata": {
        "id": "view-in-github",
        "colab_type": "text"
      },
      "source": [
        "<a href=\"https://colab.research.google.com/github/yarengozutok/HU-BBY162-2022/blob/main/proje03.ipynb\" target=\"_parent\"><img src=\"https://colab.research.google.com/assets/colab-badge.svg\" alt=\"Open In Colab\"/></a>"
      ]
    },
    {
      "cell_type": "code",
      "execution_count": 2,
      "metadata": {
        "colab": {
          "base_uri": "https://localhost:8080/"
        },
        "id": "hXsHphx1f2uz",
        "outputId": "69f5f96e-1b85-4bb9-bcc0-454844f90b42"
      },
      "outputs": [
        {
          "output_type": "stream",
          "name": "stdout",
          "text": [
            "Mini teste hoş geldiniz!\n",
            "Bu testte toplam 5 soru bulunmaktadır.\n",
            "Her bir soru 20 puan değerindedir.\n",
            "Cevaplarınızı d veya y olarak giriniz.\n",
            "BAŞARILAR DİLERİM!\n",
            "Soru 1: Cumhuriyet 1923 yılında ilan edilmiştir.\n",
            "d/yy\n",
            "bilemediniz!\n",
            "Soru 2: Kadınlara seçme ve seçilme hakkı 1932 yılında verilmiştir.\n",
            "d/yy\n",
            "bildiniz!\n",
            "Soru 3: Atatürk 1881 yılında doğmuştur.\n",
            "d/yy\n",
            "bilemediniz!\n",
            "Soru 4: Atatürk 1939 yılında vefat etmiştir.\n",
            "d/yd\n",
            "bilemediniz!\n",
            "Soru 5: Anıtkabir Ankara'da bulunur.\n",
            "d/yy\n",
            "bilemediniz!\n",
            "Toplam puanınız: 20\n",
            "Testi geçemediniz..!\n",
            "Testi tekrar almak istiyor musunuz? [e/h]: e\n",
            "Soru 1: Cumhuriyet 1923 yılında ilan edilmiştir.\n",
            "d/yd\n",
            "bildiniz!\n",
            "Soru 2: Kadınlara seçme ve seçilme hakkı 1932 yılında verilmiştir.\n",
            "d/yy\n",
            "bildiniz!\n",
            "Soru 3: Atatürk 1881 yılında doğmuştur.\n",
            "d/yd\n",
            "bildiniz!\n",
            "Soru 4: Atatürk 1939 yılında vefat etmiştir.\n",
            "d/yy\n",
            "bildiniz!\n",
            "Soru 5: Anıtkabir Ankara'da bulunur.\n",
            "d/yd\n",
            "bildiniz!\n",
            "Toplam puanınız: 100\n",
            "Tebrikler, testi geçtiniz..!\n"
          ]
        }
      ],
      "source": [
        "print(\"Mini teste hoş geldiniz!\")\n",
        "\n",
        "print(\"Bu testte toplam 5 soru bulunmaktadır.\")\n",
        "print(\"Her bir soru 20 puan değerindedir.\")\n",
        "print(\"Cevaplarınızı d veya y olarak giriniz.\")\n",
        "print(\"BAŞARILAR DİLERİM!\")\n",
        "\n",
        "puan = 0\n",
        "\n",
        "sorular = [\"Cumhuriyet 1923 yılında ilan edilmiştir.\", \"Kadınlara seçme ve seçilme hakkı 1932 yılında verilmiştir.\",\"Atatürk 1881 yılında doğmuştur.\", \"Atatürk 1939 yılında vefat etmiştir.\", \"Anıtkabir Ankara'da bulunur.\"]\n",
        "cevaplar = [\"d\", \"y\", \"d\", \"y\", \"d\"]\n",
        "\n",
        "def testCalistir():\n",
        "  soruNo = 0\n",
        "  cevapNo = 0\n",
        "  puan = 0\n",
        "  for soru in sorular:\n",
        "    soruNo +=1\n",
        "    print(\"Soru \"+str(soruNo)+\": \" + soru)\n",
        "    cevap = input(\"d/y\")\n",
        "    if cevap == cevaplar[cevapNo]:\n",
        "      print(\"bildiniz!\")\n",
        "      puan +=1\n",
        "    else:\n",
        "      print(\"bilemediniz!\")\n",
        "    cevapNo +=1\n",
        "  toplamPuan = int((puan/soruNo)*100)\n",
        "  print(\"Toplam puanınız: \"+str(toplamPuan))\n",
        "  if toplamPuan >= 60:\n",
        "    print(\"Tebrikler, testi geçtiniz..!\")\n",
        "  else:\n",
        "    print(\"Testi geçemediniz..!\")\n",
        "    tekrar = input(\"Testi tekrar almak istiyor musunuz? [e/h]: \")\n",
        "    if tekrar == \"e\":\n",
        "      testCalistir()\n",
        "    else:\n",
        "      print(\"Test uygulaması sonlandırıldı!!!\")\n",
        "\n",
        "testCalistir()\n"
      ]
    }
  ]
}