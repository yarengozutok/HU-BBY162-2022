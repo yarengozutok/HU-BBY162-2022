{
  "nbformat": 4,
  "nbformat_minor": 0,
  "metadata": {
    "colab": {
      "name": "proje03.ipynb",
      "provenance": [],
      "authorship_tag": "ABX9TyPBI1QO5Hd3l5h8+XoIoPlf",
      "include_colab_link": true
    },
    "kernelspec": {
      "name": "python3",
      "display_name": "Python 3"
    },
    "language_info": {
      "name": "python"
    }
  },
  "cells": [
    {
      "cell_type": "markdown",
      "metadata": {
        "id": "view-in-github",
        "colab_type": "text"
      },
      "source": [
        "<a href=\"https://colab.research.google.com/github/yarengozutok/HU-BBY162-2022/blob/main/proje03.ipynb\" target=\"_parent\"><img src=\"https://colab.research.google.com/assets/colab-badge.svg\" alt=\"Open In Colab\"/></a>"
      ]
    },
    {
      "cell_type": "code",
      "execution_count": 18,
      "metadata": {
        "colab": {
          "base_uri": "https://localhost:8080/"
        },
        "id": "hXsHphx1f2uz",
        "outputId": "7bf415d4-25be-4ce1-9bfa-a93879b68a0e"
      },
      "outputs": [
        {
          "output_type": "stream",
          "name": "stdout",
          "text": [
            "Mini teste hoş geldiniz!\n",
            "Bu testte toplam 5 soru bulunmaktadır.\n",
            "Her bir soru 20 puan değerindedir.\n",
            "Cevaplarınızı d veya y olarak giriniz.\n",
            "BAŞARILAR DİLERİM!\n",
            "1.SORU Cumhuriyet 1923 yılında ilan edilmiştir.\n",
            "Cevabınız: y\n",
            "Yanlış cevap!\n",
            "2.SORU Kadınlara seçme ve seçilme hakkı 1932 yılında verilmiştir.\n",
            "Cevabınız: y\n",
            "Doğru bildiniz!,kadınlara seçme ve seçilme hakkı 1934 yılında verilmiştir.\n",
            "3.SORU Atatürk 1881 yılında doğmuştur.\n",
            "Cevabınız: y\n",
            "Yanlış cevap!\n",
            "4.SORU Atatürk 1939 yılında vefat etmiştir.\n",
            "Cevabınız: d\n",
            "Yanlış cevap!\n",
            "5.SORU Anıtkabir Ankara'da bulunur.\n",
            "Cevabınız: y\n",
            "Yanlış cevap!\n",
            "1 doğrunuz, 4 yanlışınız var. Puanınız: 20\n",
            "ÜZGÜNÜM! TESTİ GEÇEMEDİNİZ.\n",
            "Teste yeniden başlamak ister misiniz? - e/h h\n",
            "İYİ GÜNLER!\n"
          ]
        }
      ],
      "source": [
        "print(\"Mini teste hoş geldiniz!\")\n",
        "\n",
        "print(\"Bu testte toplam 5 soru bulunmaktadır.\")\n",
        "print(\"Her bir soru 20 puan değerindedir.\")\n",
        "print(\"Cevaplarınızı d veya y olarak giriniz.\")\n",
        "print(\"BAŞARILAR DİLERİM!\")\n",
        "\n",
        "puan = 0\n",
        "\n",
        "sorular = [\"Cumhuriyet 1923 yılında ilan edilmiştir.\", \"Kadınlara seçme ve seçilme hakkı 1932 yılında verilmiştir.\",\"Atatürk 1881 yılında doğmuştur.\", \"Atatürk 1939 yılında vefat etmiştir.\", \"Anıtkabir Ankara'da bulunur.\"]\n",
        "cevaplar = [\"d\", \"y\", \"d\", \"y\", \"d\"]\n",
        "\n",
        "print(\"1.SORU \" + sorular[0])\n",
        "cevap = input(\"Cevabınız: \")\n",
        "if cevap == cevaplar[0]:\n",
        "  print(\"Doğru bildiniz!\")\n",
        "  puan += 20\n",
        "else :\n",
        "  print(\"Yanlış cevap!\")\n",
        "\n",
        "print(\"2.SORU \" + sorular[1])\n",
        "cevap = input(\"Cevabınız: \")\n",
        "if cevap == cevaplar[1]:\n",
        "  print(\"Doğru bildiniz!,kadınlara seçme ve seçilme hakkı 1934 yılında verilmiştir.\")\n",
        "  puan += 20\n",
        "else:\n",
        "  print(\"Yanlış cevap!\")\n",
        "\n",
        "print(\"3.SORU \" + sorular[2])\n",
        "cevap = input(\"Cevabınız: \")\n",
        "if cevap == cevaplar[2]:\n",
        "  print(\"Doğru bildiniz!\")\n",
        "  puan += 20\n",
        "else:\n",
        "  print(\"Yanlış cevap!\")\n",
        "\n",
        "print(\"4.SORU \" + sorular[3])\n",
        "cevap = input(\"Cevabınız: \")\n",
        "if cevap == cevaplar[3]:\n",
        "  print(\"Doğru bildiniz!, Atatürk 1938 yılında vefat etmiştir.\")\n",
        "  puan += 20\n",
        "else:\n",
        "  print(\"Yanlış cevap!\")\n",
        "\n",
        "print(\"5.SORU \" + sorular[4])\n",
        "cevap = input(\"Cevabınız: \")\n",
        "if cevap == cevaplar[4]:\n",
        "  print(\"Doğru bildiniz!\")\n",
        "  puan += 20\n",
        "else:\n",
        "  print(\"Yanlış cevap!\")\n",
        "\n",
        "if puan == 0:\n",
        "  print(\"Cevaplarınızın hepsi yanlış. Puanınız: 0\")\n",
        "  print(\"ÜZGÜNÜM! TESTİ GEÇEMEDİNİZ.\")\n",
        "  tekrar = input(\"Teste yeniden başlamak ister misiniz? - e/h \")\n",
        "  if tekrar == evet:\n",
        "    print(\"Test sizin için yeniden başlıyor\")\n",
        "  elif tekrar == hayir:\n",
        "    print(\"İYİ GÜNLER!\")\n",
        "    \n",
        "elif puan == 20:\n",
        "  print(\"1 doğrunuz, 4 yanlışınız var. Puanınız: 20\")\n",
        "  print(\"ÜZGÜNÜM! TESTİ GEÇEMEDİNİZ.\")\n",
        "  tekrar = input(\"Teste yeniden başlamak ister misiniz? - e/h \")\n",
        "  if tekrar == evet:\n",
        "    print(\"Test sizin için yeniden başlıyor\")\n",
        "  elif tekrar == hayir:\n",
        "    print(\"İYİ GÜNLER!\")\n",
        "    \n",
        "elif puan == 40:\n",
        "  print(\"2 doğrunuz, 3 yanlışınız var. Puanınız: 40\")\n",
        "  print(\"ÜZGÜNÜM! TESTİ GEÇEMEDİNİZ.\")\n",
        "  tekrar = input(\"Teste yeniden başlamak ister misiniz? - e/h \")\n",
        "  if tekrar == evet:\n",
        "    print(\"Test sizin için yeniden başlıyor\")\n",
        "  elif tekrar == hayir:\n",
        "    print(\"İYİ GÜNLER!\")\n",
        "    \n",
        "elif puan == 60:\n",
        "  print(\"3 doğrunuz, 2 yanlışınız var. Puanınız: 60\")\n",
        "  print(\"TEBRİKLER! TESTİ GEÇTİNİZ.\")\n",
        "\n",
        "elif puan == 80:\n",
        "  print(\"4 doğrunuz, 1 yanlışınız var. Puanınız: 80\")\n",
        "  print(\"TEBRİKLER! TESTİ GEÇTİNİZ.\")\n",
        "\n",
        "elif puan == 100:\n",
        "  print(\"Cevaplarınızın hepsi doğru. Puanınız: 100\")\n",
        "  print(\"TEBRİKLER! TÜM CEVAPLARINIZ DOĞRU. TESTİ GEÇTİNİZ.\")"
      ]
    }
  ]
}