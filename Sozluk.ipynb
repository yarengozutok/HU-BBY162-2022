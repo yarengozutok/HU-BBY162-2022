{
  "nbformat": 4,
  "nbformat_minor": 0,
  "metadata": {
    "colab": {
      "name": "Sozluk.ipynb",
      "provenance": [],
      "authorship_tag": "ABX9TyPoONdJ3m7h+3V+csmTSvec",
      "include_colab_link": true
    },
    "kernelspec": {
      "name": "python3",
      "display_name": "Python 3"
    },
    "language_info": {
      "name": "python"
    }
  },
  "cells": [
    {
      "cell_type": "markdown",
      "metadata": {
        "id": "view-in-github",
        "colab_type": "text"
      },
      "source": [
        "<a href=\"https://colab.research.google.com/github/yarengozutok/HU-BBY162-2022/blob/main/Sozluk.ipynb\" target=\"_parent\"><img src=\"https://colab.research.google.com/assets/colab-badge.svg\" alt=\"Open In Colab\"/></a>"
      ]
    },
    {
      "cell_type": "code",
      "execution_count": 16,
      "metadata": {
        "colab": {
          "base_uri": "https://localhost:8080/",
          "height": 271
        },
        "id": "0nuzWhtO6t0u",
        "outputId": "2d6b4bc3-a884-4f5b-9304-cd69ade16080"
      },
      "outputs": [
        {
          "output_type": "stream",
          "name": "stdout",
          "text": [
            "{'Muskulpesent': 'zor beğenen', 'Muskul': 'zor', 'Yaren': 'arkadaş'}\n",
            "Kelimeyi giriniz: Muskul,\n",
            "muskul,\n",
            "Sözlükte bu kelime var mı? - False\n"
          ]
        },
        {
          "output_type": "error",
          "ename": "KeyError",
          "evalue": "ignored",
          "traceback": [
            "\u001b[0;31m---------------------------------------------------------------------------\u001b[0m",
            "\u001b[0;31mKeyError\u001b[0m                                  Traceback (most recent call last)",
            "\u001b[0;32m<ipython-input-16-fe26a7ac5d2f>\u001b[0m in \u001b[0;36m<module>\u001b[0;34m()\u001b[0m\n\u001b[1;32m     10\u001b[0m \u001b[0mprint\u001b[0m\u001b[0;34m(\u001b[0m\u001b[0;34m\"Sözlükte bu kelime var mı? - \"\u001b[0m \u001b[0;34m+\u001b[0m \u001b[0mstr\u001b[0m\u001b[0;34m(\u001b[0m\u001b[0mkontrol\u001b[0m\u001b[0;34m)\u001b[0m\u001b[0;34m)\u001b[0m\u001b[0;34m\u001b[0m\u001b[0;34m\u001b[0m\u001b[0m\n\u001b[1;32m     11\u001b[0m \u001b[0;34m\u001b[0m\u001b[0m\n\u001b[0;32m---> 12\u001b[0;31m \u001b[0mprint\u001b[0m\u001b[0;34m(\u001b[0m\u001b[0msozluk\u001b[0m\u001b[0;34m[\u001b[0m\u001b[0marama\u001b[0m\u001b[0;34m]\u001b[0m\u001b[0;34m)\u001b[0m\u001b[0;34m\u001b[0m\u001b[0;34m\u001b[0m\u001b[0m\n\u001b[0m",
            "\u001b[0;31mKeyError\u001b[0m: 'muskul,'"
          ]
        }
      ],
      "source": [
        "#Sözlük oluşturma\n",
        "sozluk = {\"Muskulpesent\":\"zor beğenen\",\"Muskul\":\"zor\",\"Yaren\":\"arkadaş\", }\n",
        "print(sozluk)\n",
        "\n",
        "arama= input(\"Kelimeyi giriniz: \")\n",
        "arama= arama.lower()\n",
        "print(arama)\n",
        "\n",
        "kontrol = arama in sozluk.keys()\n",
        "print(\"Sözlükte bu kelime var mı? - \" + str(kontrol))\n",
        "\n",
        "print(sozluk[arama])"
      ]
    }
  ]
}