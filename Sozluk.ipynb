{
  "nbformat": 4,
  "nbformat_minor": 0,
  "metadata": {
    "colab": {
      "name": "Sozluk.ipynb",
      "provenance": [],
      "authorship_tag": "ABX9TyMMdHnbXRcvE1QYMOkd3c5H",
      "include_colab_link": true
    },
    "kernelspec": {
      "name": "python3",
      "display_name": "Python 3"
    },
    "language_info": {
      "name": "python"
    }
  },
  "cells": [
    {
      "cell_type": "markdown",
      "metadata": {
        "id": "view-in-github",
        "colab_type": "text"
      },
      "source": [
        "<a href=\"https://colab.research.google.com/github/yarengozutok/HU-BBY162-2022/blob/main/Sozluk.ipynb\" target=\"_parent\"><img src=\"https://colab.research.google.com/assets/colab-badge.svg\" alt=\"Open In Colab\"/></a>"
      ]
    },
    {
      "cell_type": "code",
      "execution_count": 8,
      "metadata": {
        "colab": {
          "base_uri": "https://localhost:8080/"
        },
        "id": "0nuzWhtO6t0u",
        "outputId": "88764fe4-e905-40fa-ae22-364a8e032207"
      },
      "outputs": [
        {
          "output_type": "stream",
          "name": "stdout",
          "text": [
            "{'muskulpesent': 'zor beğenen', 'muskul': 'zor', 'yaren': 'arkadaş'}\n",
            "Kelimeyi giriniz: MUSKUL\n",
            "muskul\n",
            "Sözlükte bu kelime var mı? - True\n",
            "zor\n"
          ]
        }
      ],
      "source": [
        "#Sözlük oluşturma\n",
        "sozluk = {\"muskulpesent\":\"zor beğenen\",\"muskul\":\"zor\",\"yaren\":\"arkadaş\"}\n",
        "print(sozluk)\n",
        "\n",
        "arama= input(\"Kelimeyi giriniz: \")\n",
        "arama= arama.lower()\n",
        "print(arama)\n",
        "\n",
        "kontrol = arama in sozluk.keys()\n",
        "print(\"Sözlükte bu kelime var mı? - \" + str(kontrol))\n",
        "\n",
        "print(sozluk[arama])"
      ]
    }
  ]
}