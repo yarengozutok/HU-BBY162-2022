{
  "cells": [
    {
      "cell_type": "markdown",
      "metadata": {
        "id": "view-in-github",
        "colab_type": "text"
      },
      "source": [
        "<a href=\"https://colab.research.google.com/github/yarengozutok/HU-BBY162-2022/blob/main/proje02.ipynb\" target=\"_parent\"><img src=\"https://colab.research.google.com/assets/colab-badge.svg\" alt=\"Open In Colab\"/></a>"
      ]
    },
    {
      "cell_type": "code",
      "execution_count": 4,
      "metadata": {
        "colab": {
          "base_uri": "https://localhost:8080/"
        },
        "id": "UTDjppn1Vu-B",
        "outputId": "a942b1a5-7660-418d-893a-51886a6428c2"
      },
      "outputs": [
        {
          "output_type": "stream",
          "name": "stdout",
          "text": [
            "['_', '_', '_', '_', '_', '_', '_', '_', '_', '_', '_', '_']\n",
            "Bir harf giriniz: a\n",
            "['_', 'a', '_', '_', '_', '_', '_', '_', '_', '_', '_', '_']\n",
            "Kalan can: 3\n",
            "Bir harf giriniz: ç\n",
            "['_', 'a', '_', '_', '_', '_', '_', '_', '_', '_', '_', '_']\n",
            "Kalan can: 2\n",
            "Bir harf giriniz: k\n",
            "['_', 'a', 'k', '_', '_', '_', '_', '_', '_', '_', '_', '_']\n",
            "Kalan can: 2\n",
            "Bir harf giriniz: t\n",
            "['t', 'a', 'k', '_', '_', '_', '_', '_', '_', '_', '_', '_']\n",
            "Kalan can: 2\n",
            "Bir harf giriniz: ss\n",
            "['t', 'a', 'k', '_', '_', '_', '_', '_', '_', '_', '_', '_']\n",
            "Kalan can: 1\n",
            "Bir harf giriniz: s\n",
            "['t', 'a', 'k', 's', '_', '_', '_', '_', '_', '_', '_', '_']\n",
            "Kalan can: 1\n",
            "Bir harf giriniz: o\n",
            "['t', 'a', 'k', 's', 'o', '_', 'o', '_', '_', '_', '_', '_']\n",
            "Kalan can: 1\n",
            "Bir harf giriniz: n\n",
            "['t', 'a', 'k', 's', 'o', 'n', 'o', '_', '_', '_', '_', '_']\n",
            "Kalan can: 1\n",
            "Bir harf giriniz: o\n",
            "['t', 'a', 'k', 's', 'o', 'n', 'o', '_', '_', '_', '_', '_']\n",
            "Kalan can: 1\n",
            "Bir harf giriniz: m\n",
            "['t', 'a', 'k', 's', 'o', 'n', 'o', 'm', '_', '_', '_', '_']\n",
            "Kalan can: 1\n",
            "Bir harf giriniz: i\n",
            "['t', 'a', 'k', 's', 'o', 'n', 'o', 'm', 'i', '_', '_', '_']\n",
            "Kalan can: 1\n",
            "Bir harf giriniz: l\n",
            "['t', 'a', 'k', 's', 'o', 'n', 'o', 'm', 'i', 'l', '_', '_']\n",
            "Kalan can: 1\n",
            "Bir harf giriniz: r\n",
            "['t', 'a', 'k', 's', 'o', 'n', 'o', 'm', 'i', 'l', '_', 'r']\n",
            "Kalan can: 1\n",
            "Bir harf giriniz: e\n",
            "['t', 'a', 'k', 's', 'o', 'n', 'o', 'm', 'i', 'l', 'e', 'r']\n",
            "Kalan can: 1\n",
            "Bir harf giriniz: q\n",
            "['t', 'a', 'k', 's', 'o', 'n', 'o', 'm', 'i', 'l', 'e', 'r']\n",
            "Kalan can: 0\n"
          ]
        }
      ],
      "source": [
        "#İleri Seviye Adam Asmaca\n",
        "\n",
        "print(\"Adam Asmaca oyununa hoş geldiniz\")\n",
        "\n",
        "from random import randint\n",
        "\n",
        "adamCan = 3\n",
        "\n",
        "kelimeler = [\"açıkerişim\", \"taksonomiler\", \"sınıflamasistemi\", \"tezarsular\"]\n",
        "kelimeSayisi = len(kelimeler)\n",
        "secilen = randint(0, kelimeSayisi-1)\n",
        "secilenKelime = kelimeler[secilen]\n",
        "\n",
        "dizilenKelime = []\n",
        "for diz in kelimeler[secilen]:\n",
        "    dizilenKelime.append(\"_\")\n",
        "print(dizilenKelime)\n",
        "\n",
        "while adamCan > 0:\n",
        "    girilenHarf = input(\"Bir harf giriniz: \")\n",
        "    canKontrol = girilenHarf in secilenKelime\n",
        "    if canKontrol == False:\n",
        "        adamCan-=1\n",
        "    i = 0\n",
        "    for kontrol in secilenKelime:\n",
        "        if secilenKelime[i] == girilenHarf:\n",
        "            dizilenKelime[i] = girilenHarf\n",
        "        i+=1\n",
        "    print(dizilenKelime)\n",
        "    print(\"Kalan can: \"+ str(adamCan))"
      ]
    },
    {
      "cell_type": "code",
      "execution_count": null,
      "metadata": {
        "id": "W6NBI75hcfQa"
      },
      "outputs": [],
      "source": [
        "#Orta Seviye Adam Asmaca\n",
        "\n",
        "print(\"Adam Asmaca oyununa hoş geldiniz\")\n",
        "\n",
        "from random import random\n",
        "\n",
        "adamCan = 5\n",
        "kelimeler = [\"bigdeal\", \"üstveri\", \"dijital\", \"yeşilyol\"]\n",
        "kelimeSayisi = len(kelimeler)\n",
        "secilen = randint(0, kelimeSayisi-1)\n",
        "secilenKelime = kelimeler[secilen]\n",
        "\n",
        "dizilenKelime = []\n",
        "for diz in kelimeler[secilen]:\n",
        "    dizilenKelime.append(\"_\")\n",
        "print(dizilenKelime)\n",
        "\n",
        "while adamCan > 0:\n",
        "    girilenHarf = input(\"Bir harf giriniz: \")\n",
        "    canKontrol = girilenHarf in secilenKelime\n",
        "    if canKontrol == False:\n",
        "        adamCan-=1\n",
        "    i = 0\n",
        "    for kontrol in secilenKelime:\n",
        "        if secilenKelime[i] == girilenHarf:\n",
        "            dizilenKelime[i] = girilenHarf\n",
        "        i+=1\n",
        "    print(dizilenKelime)\n",
        "    print(\"Kalan can: \"+ str(adamCan))\n"
      ]
    },
    {
      "cell_type": "code",
      "execution_count": null,
      "metadata": {
        "id": "ZJKr_9hKe3Mv"
      },
      "outputs": [],
      "source": [
        "#Basit Seviye Adam Asmaca\n",
        "\n",
        "print(\"Adam Asmaca oyununa hoş geldiniz\")\n",
        "\n",
        "from random import random\n",
        "\n",
        "adamCan = 10\n",
        "kelimeler = [\"meta\", \"veri\", \"bilgi\", \"keşif\"]\n",
        "kelimeSayisi = len(kelimeler)\n",
        "secilen = randint(0, kelimeSayisi-1)\n",
        "secilenKelime = kelimeler[secilen]\n",
        "\n",
        "dizilenKelime = []\n",
        "for diz in kelimeler[secilen]:\n",
        "    dizilenKelime.append(\"_\")\n",
        "print(dizilenKelime)\n",
        "\n",
        "while adamCan > 0:\n",
        "    girilenHarf = input(\"Bir harf giriniz: \")\n",
        "    canKontrol = girilenHarf in secilenKelime\n",
        "    if canKontrol == False:\n",
        "        adamCan-=1\n",
        "    i = 0\n",
        "    for kontrol in secilenKelime:\n",
        "        if secilenKelime[i] == girilenHarf:\n",
        "            dizilenKelime[i] = girilenHarf\n",
        "        i+=1\n",
        "    print(dizilenKelime)\n",
        "    print(\"Kalan can: \"+ str(adamCan))"
      ]
    }
  ],
  "metadata": {
    "colab": {
      "name": "proje02.ipynb",
      "provenance": [],
      "authorship_tag": "ABX9TyPQlUEYJj5Z90AVNv+ImD0T",
      "include_colab_link": true
    },
    "kernelspec": {
      "display_name": "Python 3",
      "name": "python3"
    },
    "language_info": {
      "name": "python"
    }
  },
  "nbformat": 4,
  "nbformat_minor": 0
}