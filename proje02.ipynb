{
  "nbformat": 4,
  "nbformat_minor": 0,
  "metadata": {
    "colab": {
      "name": "proje02.ipynb",
      "provenance": [],
      "authorship_tag": "ABX9TyOxLRdN7JQOt3gYS52pL67a",
      "include_colab_link": true
    },
    "kernelspec": {
      "name": "python3",
      "display_name": "Python 3"
    },
    "language_info": {
      "name": "python"
    }
  },
  "cells": [
    {
      "cell_type": "markdown",
      "metadata": {
        "id": "view-in-github",
        "colab_type": "text"
      },
      "source": [
        "<a href=\"https://colab.research.google.com/github/yarengozutok/HU-BBY162-2022/blob/main/proje02.ipynb\" target=\"_parent\"><img src=\"https://colab.research.google.com/assets/colab-badge.svg\" alt=\"Open In Colab\"/></a>"
      ]
    },
    {
      "cell_type": "code",
      "execution_count": 9,
      "metadata": {
        "id": "MR-JjRg1-wWH",
        "colab": {
          "base_uri": "https://localhost:8080/"
        },
        "outputId": "e87f6520-5cc4-4df9-c0b9-bc7faaf186f1"
      },
      "outputs": [
        {
          "name": "stdout",
          "output_type": "stream",
          "text": [
            "Merhabalar!\n",
            "******Adam Asmaca Oyununa Hoş Geldiniz******\n",
            "İsminizi Giriniz: Yaren\n",
            "Oyuna hoş geldiniz Yaren\n",
            "Bu oyunda hayvan isimlerini bulmaya çalışıcaksınız,  Yaren\n",
            "Oynamak istediğiniz seviyeyi seçiniz: 1 - 2 - 3 \n",
            "Seviye: 1 - 2 - 3\n",
            "Üzgünüm! Geçerli bir seviye girmediniz.\n",
            "Oynamak istediğiniz seviyeyi seçiniz: 1 - 2 - 3 \n",
            "Seviye: 1\n"
          ]
        }
      ],
      "source": [
        "_author_ = \"Yaren Gözütok\"\n",
        "print(\"Merhabalar!\")\n",
        "print(\"******Adam Asmaca Oyununa Hoş Geldiniz******\")\n",
        "\n",
        "isim=input(\"İsminizi Giriniz: \")\n",
        "print(\"Oyuna hoş geldiniz\", isim)\n",
        "print(\"Bu oyunda hayvan isimlerini bulmaya çalışıcaksınız, \",isim)\n",
        "\n",
        "\n",
        "from random import randint\n",
        "\n",
        "\n",
        "def seviyeSec():\n",
        "  print(\"Oynamak istediğiniz seviyeyi seçiniz: 1 - 2 - 3 \")\n",
        "  seviye = input(\"Seviye: \")\n",
        "\n",
        "seviyeSec()\n",
        "\n",
        "\n",
        "\n",
        "def oyna(adamCan):\n",
        "  kelimeler = [\"Ornitorenk\", \"Kaplumbağa\", \"Kertenkele\"]\n",
        "  kelimeSayisi = len(kelimeler)\n",
        "  secilen = randint(0, kelimeSayisi-1)\n",
        "  secilenKelime = kelimeler[secilen]\n",
        "\n",
        "  dizilenKelime = []\n",
        "  for diz in kelimeler[secilen]:\n",
        "    dizilenKelime.append(\"_\")\n",
        "  print(dizilenKelime)\n",
        "\n",
        "  while adamCan > 0:\n",
        "    girilenHarf = input(\"Bir harf giriniz: \")\n",
        "    canKontrol = girilenHarf in secilenKelime\n",
        "    if canKontrol == False:\n",
        "      adamCan -=1\n",
        "    i = 0\n",
        "    for kontrol in secilenKelime:\n",
        "      if secilenKelime[i] == girilenHarf:\n",
        "        dizilenKelime[i] = girilenHarf\n",
        "      i +=1\n",
        "    print(dizilenKelime)\n",
        "    print(\"Kalan canınınız: \" + str(adamCan))\n",
        "\n",
        "if seviyeSec == \"1\":\n",
        "  oyna(7)\n",
        "elif seviyeSec == \"2\":\n",
        "  oyna(5)\n",
        "elif seviyeSec == \"3\":\n",
        "  oyna(3)\n",
        "else:\n",
        "  print(\"Üzgünüm! Geçerli bir seviye girmediniz.\")\n",
        "  seviyeSec()\n",
        "  \n",
        "  "
      ]
    }
  ]
}