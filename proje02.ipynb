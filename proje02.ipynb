{
  "nbformat": 4,
  "nbformat_minor": 0,
  "metadata": {
    "colab": {
      "name": "proje02.ipynb",
      "provenance": [],
      "authorship_tag": "ABX9TyN6HGZx8XqNRePE1JbGWkzD",
      "include_colab_link": true
    },
    "kernelspec": {
      "name": "python3",
      "display_name": "Python 3"
    },
    "language_info": {
      "name": "python"
    }
  },
  "cells": [
    {
      "cell_type": "markdown",
      "metadata": {
        "id": "view-in-github",
        "colab_type": "text"
      },
      "source": [
        "<a href=\"https://colab.research.google.com/github/yarengozutok/HU-BBY162-2022/blob/main/proje02.ipynb\" target=\"_parent\"><img src=\"https://colab.research.google.com/assets/colab-badge.svg\" alt=\"Open In Colab\"/></a>"
      ]
    },
    {
      "cell_type": "code",
      "execution_count": 23,
      "metadata": {
        "id": "MR-JjRg1-wWH",
        "colab": {
          "base_uri": "https://localhost:8080/"
        },
        "outputId": "bab4b77c-4f75-44c7-fbc9-7e5b54c57a13"
      },
      "outputs": [
        {
          "output_type": "stream",
          "name": "stdout",
          "text": [
            "Merhabalar!\n",
            "******Adam Asmaca Oyununa Hoş Geldiniz******\n",
            "İsminizi Giriniz: Yaren\n",
            "Oyuna hoş geldiniz Yaren\n",
            "Bu oyunda hayvan isimlerini bulmaya çalışıcaksınız,  Yaren\n",
            "Oynamak istediğiniz seviyeyi seçiniz: 1 - 2 - 3 \n",
            "Seviye: 3\n",
            "['_', '_', '_', '_', '_']\n",
            "Bir harf giriniz: h\n",
            "['h', '_', '_', '_', '_']\n",
            "Kalan canınınız: 3\n",
            "Bir harf giriniz: o\n",
            "['h', 'o', '_', 'o', '_']\n",
            "Kalan canınınız: 3\n",
            "Bir harf giriniz: a\n",
            "['h', 'o', '_', 'o', '_']\n",
            "Kalan canınınız: 2\n",
            "Bir harf giriniz: e\n",
            "['h', 'o', '_', 'o', '_']\n",
            "Kalan canınınız: 1\n",
            "Bir harf giriniz: z\n",
            "['h', 'o', '_', 'o', 'z']\n",
            "Kalan canınınız: 1\n",
            "Bir harf giriniz: a\n",
            "['h', 'o', '_', 'o', 'z']\n",
            "Kalan canınınız: 0\n"
          ]
        }
      ],
      "source": [
        "from random import randint\n",
        "\n",
        "_author_ = \"Yaren Gözütok\"\n",
        "print(\"Merhabalar!\")\n",
        "print(\"******Adam Asmaca Oyununa Hoş Geldiniz******\")\n",
        "\n",
        "isim=input(\"İsminizi Giriniz: \")\n",
        "print(\"Oyuna hoş geldiniz\", isim)\n",
        "print(\"Bu oyunda hayvan isimlerini bulmaya çalışıcaksınız, \",isim)\n",
        "\n",
        "def oyna(adamCan):\n",
        "  kelimeler = seviye1 = [\"kertenkele\", \"pelikan\", \"horoz\"]\n",
        "  kelimeSayisi = len(kelimeler)\n",
        "  secilen = randint(0, kelimeSayisi-1)\n",
        "  secilenKelime = kelimeler[secilen]\n",
        "\n",
        "  dizilenKelime = []\n",
        "  for diz in kelimeler[secilen]:\n",
        "    dizilenKelime.append(\"_\")\n",
        "  print(dizilenKelime)\n",
        "\n",
        "  while adamCan > 0:\n",
        "    girilenHarf = input(\"Bir harf giriniz: \")\n",
        "    canKontrol = girilenHarf in secilenKelime\n",
        "    if canKontrol == False:\n",
        "      adamCan -=1\n",
        "    i = 0\n",
        "    for kontrol in secilenKelime:\n",
        "      if secilenKelime[i] == girilenHarf:\n",
        "        dizilenKelime[i] = girilenHarf\n",
        "      i +=1\n",
        "    print(dizilenKelime)\n",
        "    print(\"Kalan canınınız: \" + str(adamCan))\n",
        "\n",
        "def seviyeSec():\n",
        "  print(\"Oynamak istediğiniz seviyeyi seçiniz: 1 - 2 - 3 \")\n",
        "  seviye = input(\"Seviye: \")\n",
        "  if seviye == \"1\":\n",
        "    oyna(7)\n",
        "  elif seviye == \"2\":\n",
        "    oyna(5)\n",
        "  elif seviye == \"3\":\n",
        "    oyna(3)\n",
        "  else:\n",
        "    print(\"Üzgünüm! Geçerli bir seviye girmediniz.\")\n",
        "\n",
        "\n",
        "seviyeSec()\n",
        "\n",
        "  "
      ]
    }
  ]
}